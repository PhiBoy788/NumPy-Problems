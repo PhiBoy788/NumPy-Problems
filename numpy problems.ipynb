{
 "cells": [
  {
   "cell_type": "code",
   "execution_count": 1,
   "id": "dd52df97",
   "metadata": {},
   "outputs": [],
   "source": [
    "#Henry Kroll\n",
    "#ITS 520\n",
    "#Fall 2022\n",
    "#NumPy Problems"
   ]
  },
  {
   "cell_type": "code",
   "execution_count": 2,
   "id": "0d1aa6bb",
   "metadata": {},
   "outputs": [],
   "source": [
    "import numpy as np"
   ]
  },
  {
   "cell_type": "code",
   "execution_count": 3,
   "id": "fb1e2487",
   "metadata": {},
   "outputs": [
    {
     "name": "stdout",
     "output_type": "stream",
     "text": [
      "[[0. 0. 0. 0.]\n",
      " [0. 0. 0. 0.]\n",
      " [0. 0. 0. 0.]\n",
      " [1. 1. 1. 1.]\n",
      " [1. 1. 1. 1.]\n",
      " [1. 1. 1. 1.]\n",
      " [1. 1. 1. 1.]\n",
      " [1. 1. 1. 1.]]\n"
     ]
    }
   ],
   "source": [
    "#1\n",
    "\n",
    "#For this question, I would consider an 8x4 matrix to be 8 numbers wide and 4 numbers tall, \n",
    "#but I wanted to go as literal to the wording of the question as possible. \n",
    "#Had I wanted to make the inverse of this, I would swap the input values (i.e. 4,3 instead of 3,4)\n",
    "#and used hstack instead of vstack to achieve this. \n",
    "a = np.zeros((3,4))\n",
    "b = np.ones((5,4))\n",
    "c = np.vstack((a, b))\n",
    "\n",
    "print(c)\n"
   ]
  },
  {
   "cell_type": "code",
   "execution_count": 15,
   "id": "b9f6ac17",
   "metadata": {
    "scrolled": true
   },
   "outputs": [
    {
     "name": "stdout",
     "output_type": "stream",
     "text": [
      "[ 1  2  3  4  5  6  7  8  9 10]\n",
      "[0 1 2 3 4 5 6 7 8 9]\n"
     ]
    }
   ],
   "source": [
    "#2\n",
    "a = np.arange(1,11)\n",
    "b = a.copy()\n",
    "b = np.insert(b,0,0)\n",
    "b = np.delete(b, [-1])\n",
    "\n",
    "print(a)\n",
    "print(b)"
   ]
  },
  {
   "cell_type": "code",
   "execution_count": null,
   "id": "73f45fa1",
   "metadata": {},
   "outputs": [],
   "source": [
    "#3\n",
    "x = np."
   ]
  },
  {
   "cell_type": "markdown",
   "id": "180ce529",
   "metadata": {},
   "source": []
  }
 ],
 "metadata": {
  "kernelspec": {
   "display_name": "Python 3 (ipykernel)",
   "language": "python",
   "name": "python3"
  },
  "language_info": {
   "codemirror_mode": {
    "name": "ipython",
    "version": 3
   },
   "file_extension": ".py",
   "mimetype": "text/x-python",
   "name": "python",
   "nbconvert_exporter": "python",
   "pygments_lexer": "ipython3",
   "version": "3.9.12"
  }
 },
 "nbformat": 4,
 "nbformat_minor": 5
}
