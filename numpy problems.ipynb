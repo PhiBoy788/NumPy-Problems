{
 "cells": [
  {
   "cell_type": "code",
   "execution_count": 1,
   "id": "dd52df97",
   "metadata": {},
   "outputs": [],
   "source": [
    "#Henry Kroll\n",
    "#ITS 520\n",
    "#Fall 2022\n",
    "#NumPy Problems"
   ]
  },
  {
   "cell_type": "code",
   "execution_count": 2,
   "id": "0d1aa6bb",
   "metadata": {},
   "outputs": [],
   "source": [
    "import numpy as np"
   ]
  },
  {
   "cell_type": "code",
   "execution_count": 3,
   "id": "fb1e2487",
   "metadata": {},
   "outputs": [
    {
     "name": "stdout",
     "output_type": "stream",
     "text": [
      "[[0. 0. 0. 0.]\n",
      " [0. 0. 0. 0.]\n",
      " [0. 0. 0. 0.]\n",
      " [1. 1. 1. 1.]\n",
      " [1. 1. 1. 1.]\n",
      " [1. 1. 1. 1.]\n",
      " [1. 1. 1. 1.]\n",
      " [1. 1. 1. 1.]]\n"
     ]
    }
   ],
   "source": [
    "#1\n",
    "\n",
    "a = np.zeros((3,4))\n",
    "b = np.ones((5,4))\n",
    "c = np.vstack((a, b))\n",
    "\n",
    "print(c)\n"
   ]
  },
  {
   "cell_type": "code",
   "execution_count": 4,
   "id": "b9f6ac17",
   "metadata": {
    "scrolled": true
   },
   "outputs": [
    {
     "name": "stdout",
     "output_type": "stream",
     "text": [
      "[ 1  2  3  4  5  6  7  8  9 10]\n",
      "[0 1 2 3 4 5 6 7 8 9]\n"
     ]
    }
   ],
   "source": [
    "#2\n",
    "\n",
    "a = np.arange(1,11)\n",
    "b = a.copy()\n",
    "b = np.insert(b,0,0)\n",
    "b = np.delete(b, [-1])\n",
    "\n",
    "print(a)\n",
    "print(b)"
   ]
  },
  {
   "cell_type": "code",
   "execution_count": 14,
   "id": "73f45fa1",
   "metadata": {},
   "outputs": [
    {
     "name": "stdout",
     "output_type": "stream",
     "text": [
      "A\n",
      "[[1 2 3]\n",
      " [4 5 6]\n",
      " [7 8 9]]\n",
      "M\n",
      "[[0 0 0]\n",
      " [1 0 0]\n",
      " [1 1 0]]\n",
      "New_x\n",
      "[[0 0 0]\n",
      " [4 0 0]\n",
      " [7 8 0]]\n"
     ]
    }
   ],
   "source": [
    "#3\n",
    "A = np.array(([1,2,3],[4,5,6],[7,8,9]))\n",
    "M = np.array(([0,0,0],[1,0,0],[1,1,0]))\n",
    "\n",
    "New_x = A * M\n",
    "\n",
    "print(\"A\")\n",
    "print(A)\n",
    "print(\"M\")\n",
    "print(M)\n",
    "print(\"New_x\")\n",
    "print(New_x)\n"
   ]
  }
 ],
 "metadata": {
  "kernelspec": {
   "display_name": "Python 3 (ipykernel)",
   "language": "python",
   "name": "python3"
  },
  "language_info": {
   "codemirror_mode": {
    "name": "ipython",
    "version": 3
   },
   "file_extension": ".py",
   "mimetype": "text/x-python",
   "name": "python",
   "nbconvert_exporter": "python",
   "pygments_lexer": "ipython3",
   "version": "3.10.4"
  }
 },
 "nbformat": 4,
 "nbformat_minor": 5
}
