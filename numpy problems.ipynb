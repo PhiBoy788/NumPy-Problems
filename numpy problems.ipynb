{
 "cells": [
  {
   "cell_type": "code",
   "execution_count": null,
   "id": "dd52df97",
   "metadata": {},
   "outputs": [],
   "source": [
    "#Henry Kroll\n",
    "#ITS 520\n",
    "#Fall 2022\n",
    "#NumPy Problems"
   ]
  },
  {
   "cell_type": "code",
   "execution_count": 1,
   "id": "0d1aa6bb",
   "metadata": {},
   "outputs": [],
   "source": [
    "import numpy as np"
   ]
  },
  {
   "cell_type": "code",
   "execution_count": 6,
   "id": "fb1e2487",
   "metadata": {},
   "outputs": [
    {
     "name": "stdout",
     "output_type": "stream",
     "text": [
      "[[0. 0. 0. 0.]\n",
      " [0. 0. 0. 0.]\n",
      " [0. 0. 0. 0.]\n",
      " [1. 1. 1. 1.]\n",
      " [1. 1. 1. 1.]\n",
      " [1. 1. 1. 1.]\n",
      " [1. 1. 1. 1.]\n",
      " [1. 1. 1. 1.]]\n"
     ]
    }
   ],
   "source": [
    "#1\n",
    "\n",
    "#For this question, I would consider an 8x4 matrix to be 8 numbers long and 4 numbers tall, \n",
    "#but I wanted to go as literal to the wording of the question as possible. \n",
    "#Had I wanted to make the inverse of this, I would swap the input values (i.e. 4,3 instead of 3,4)\n",
    "#and used hstack instead of vstack to achieve this. \n",
    "a = np.zeros((3,4))\n",
    "b = np.ones((5,4))\n",
    "c = np.vstack((a, b))\n",
    "\n",
    "print(c)\n"
   ]
  },
  {
   "cell_type": "code",
   "execution_count": null,
   "id": "b9f6ac17",
   "metadata": {},
   "outputs": [],
   "source": []
  }
 ],
 "metadata": {
  "kernelspec": {
   "display_name": "Python 3 (ipykernel)",
   "language": "python",
   "name": "python3"
  },
  "language_info": {
   "codemirror_mode": {
    "name": "ipython",
    "version": 3
   },
   "file_extension": ".py",
   "mimetype": "text/x-python",
   "name": "python",
   "nbconvert_exporter": "python",
   "pygments_lexer": "ipython3",
   "version": "3.10.4"
  }
 },
 "nbformat": 4,
 "nbformat_minor": 5
}
